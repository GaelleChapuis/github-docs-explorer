{
 "cells": [
  {
   "cell_type": "markdown",
   "metadata": {},
   "source": [
    "# Check Available Datasets\n",
    "\n",
    "This notebook will check what datasets are available for the specified experiment."
   ]
  },
  {
   "cell_type": "code",
   "metadata": {
    "ExecuteTime": {
     "end_time": "2025-03-26T17:17:08.414774Z",
     "start_time": "2025-03-26T17:17:02.728238Z"
    }
   },
   "source": [
    "from one.api import ONE\n",
    "import pandas as pd\n",
    "\n",
    "# Initialize ONE\n",
    "one = ONE()\n",
    "\n",
    "# Get experiment ID from probe insertion\n",
    "pid = 'c4f6665f-8be5-476b-a6e8-d81eeae9279d'\n",
    "eid, probe = one.pid2eid(pid)\n",
    "\n",
    "print(f\"Experiment ID: {eid}\")"
   ],
   "outputs": [
    {
     "name": "stdout",
     "output_type": "stream",
     "text": [
      "Experiment ID: e535fb62-e245-4a48-b119-88ce62a6fe67\n"
     ]
    }
   ],
   "execution_count": 1
  },
  {
   "cell_type": "code",
   "metadata": {
    "ExecuteTime": {
     "end_time": "2025-03-26T17:17:09.733660Z",
     "start_time": "2025-03-26T17:17:09.714535Z"
    }
   },
   "source": [
    "# List all available datasets for this experiment\n",
    "datasets = one.list_datasets(eid)\n",
    "\n",
    "# Convert to DataFrame for better display\n",
    "df = pd.DataFrame(datasets)\n",
    "print(\"Available datasets:\")\n",
    "display(df)"
   ],
   "outputs": [
    {
     "name": "stdout",
     "output_type": "stream",
     "text": [
      "Available datasets:\n"
     ]
    },
    {
     "data": {
      "text/plain": [
       "                                                     0\n",
       "0           alf/#2023-04-20#/_ibl_leftCamera.times.npy\n",
       "1          alf/#2023-04-20#/_ibl_rightCamera.times.npy\n",
       "2                     alf/#2023-04-20#/licks.times.npy\n",
       "3                          alf/_ibl_bodyCamera.dlc.pqt\n",
       "4                        alf/_ibl_bodyCamera.times.npy\n",
       "..                                                 ...\n",
       "342  raw_video_data/_iblrig_rightCamera.timestamps.ssv\n",
       "343  spike_sorters/ks2_matlab/probe00/_kilosort_raw...\n",
       "344  spike_sorters/ks2_matlab/probe01/_kilosort_raw...\n",
       "345  spike_sorters/pykilosort/probe00/_kilosort_raw...\n",
       "346  spike_sorters/pykilosort/probe01/_kilosort_raw...\n",
       "\n",
       "[347 rows x 1 columns]"
      ],
      "text/html": [
       "<div>\n",
       "<style scoped>\n",
       "    .dataframe tbody tr th:only-of-type {\n",
       "        vertical-align: middle;\n",
       "    }\n",
       "\n",
       "    .dataframe tbody tr th {\n",
       "        vertical-align: top;\n",
       "    }\n",
       "\n",
       "    .dataframe thead th {\n",
       "        text-align: right;\n",
       "    }\n",
       "</style>\n",
       "<table border=\"1\" class=\"dataframe\">\n",
       "  <thead>\n",
       "    <tr style=\"text-align: right;\">\n",
       "      <th></th>\n",
       "      <th>0</th>\n",
       "    </tr>\n",
       "  </thead>\n",
       "  <tbody>\n",
       "    <tr>\n",
       "      <th>0</th>\n",
       "      <td>alf/#2023-04-20#/_ibl_leftCamera.times.npy</td>\n",
       "    </tr>\n",
       "    <tr>\n",
       "      <th>1</th>\n",
       "      <td>alf/#2023-04-20#/_ibl_rightCamera.times.npy</td>\n",
       "    </tr>\n",
       "    <tr>\n",
       "      <th>2</th>\n",
       "      <td>alf/#2023-04-20#/licks.times.npy</td>\n",
       "    </tr>\n",
       "    <tr>\n",
       "      <th>3</th>\n",
       "      <td>alf/_ibl_bodyCamera.dlc.pqt</td>\n",
       "    </tr>\n",
       "    <tr>\n",
       "      <th>4</th>\n",
       "      <td>alf/_ibl_bodyCamera.times.npy</td>\n",
       "    </tr>\n",
       "    <tr>\n",
       "      <th>...</th>\n",
       "      <td>...</td>\n",
       "    </tr>\n",
       "    <tr>\n",
       "      <th>342</th>\n",
       "      <td>raw_video_data/_iblrig_rightCamera.timestamps.ssv</td>\n",
       "    </tr>\n",
       "    <tr>\n",
       "      <th>343</th>\n",
       "      <td>spike_sorters/ks2_matlab/probe00/_kilosort_raw...</td>\n",
       "    </tr>\n",
       "    <tr>\n",
       "      <th>344</th>\n",
       "      <td>spike_sorters/ks2_matlab/probe01/_kilosort_raw...</td>\n",
       "    </tr>\n",
       "    <tr>\n",
       "      <th>345</th>\n",
       "      <td>spike_sorters/pykilosort/probe00/_kilosort_raw...</td>\n",
       "    </tr>\n",
       "    <tr>\n",
       "      <th>346</th>\n",
       "      <td>spike_sorters/pykilosort/probe01/_kilosort_raw...</td>\n",
       "    </tr>\n",
       "  </tbody>\n",
       "</table>\n",
       "<p>347 rows × 1 columns</p>\n",
       "</div>"
      ]
     },
     "metadata": {},
     "output_type": "display_data"
    }
   ],
   "execution_count": 2
  },
  {
   "cell_type": "code",
   "metadata": {
    "ExecuteTime": {
     "end_time": "2025-03-26T17:18:05.497222Z",
     "start_time": "2025-03-26T17:18:05.487685Z"
    }
   },
   "source": [
    "# Look specifically for video and DLC related datasets\n",
    "video_datasets = df[df[0].str.contains('video|camera|dlc', case=False, na=False)]\n",
    "print(\"\\nVideo and DLC related datasets:\")\n",
    "display(video_datasets)"
   ],
   "outputs": [
    {
     "name": "stdout",
     "output_type": "stream",
     "text": [
      "\n",
      "Video and DLC related datasets:\n"
     ]
    },
    {
     "data": {
      "text/plain": [
       "                                                     0\n",
       "0           alf/#2023-04-20#/_ibl_leftCamera.times.npy\n",
       "1          alf/#2023-04-20#/_ibl_rightCamera.times.npy\n",
       "3                          alf/_ibl_bodyCamera.dlc.pqt\n",
       "4                        alf/_ibl_bodyCamera.times.npy\n",
       "5                          alf/_ibl_leftCamera.dlc.pqt\n",
       "6                     alf/_ibl_leftCamera.features.pqt\n",
       "7                alf/_ibl_leftCamera.lightningPose.pqt\n",
       "8                        alf/_ibl_leftCamera.times.npy\n",
       "13                        alf/_ibl_rightCamera.dlc.pqt\n",
       "14                   alf/_ibl_rightCamera.features.pqt\n",
       "15                      alf/_ibl_rightCamera.times.npy\n",
       "25                  alf/bodyCamera.ROIMotionEnergy.npy\n",
       "27                  alf/leftCamera.ROIMotionEnergy.npy\n",
       "266                alf/rightCamera.ROIMotionEnergy.npy\n",
       "337          raw_video_data/_iblrig_bodyCamera.raw.mp4\n",
       "338   raw_video_data/_iblrig_bodyCamera.timestamps.ssv\n",
       "339          raw_video_data/_iblrig_leftCamera.raw.mp4\n",
       "340   raw_video_data/_iblrig_leftCamera.timestamps.ssv\n",
       "341         raw_video_data/_iblrig_rightCamera.raw.mp4\n",
       "342  raw_video_data/_iblrig_rightCamera.timestamps.ssv"
      ],
      "text/html": [
       "<div>\n",
       "<style scoped>\n",
       "    .dataframe tbody tr th:only-of-type {\n",
       "        vertical-align: middle;\n",
       "    }\n",
       "\n",
       "    .dataframe tbody tr th {\n",
       "        vertical-align: top;\n",
       "    }\n",
       "\n",
       "    .dataframe thead th {\n",
       "        text-align: right;\n",
       "    }\n",
       "</style>\n",
       "<table border=\"1\" class=\"dataframe\">\n",
       "  <thead>\n",
       "    <tr style=\"text-align: right;\">\n",
       "      <th></th>\n",
       "      <th>0</th>\n",
       "    </tr>\n",
       "  </thead>\n",
       "  <tbody>\n",
       "    <tr>\n",
       "      <th>0</th>\n",
       "      <td>alf/#2023-04-20#/_ibl_leftCamera.times.npy</td>\n",
       "    </tr>\n",
       "    <tr>\n",
       "      <th>1</th>\n",
       "      <td>alf/#2023-04-20#/_ibl_rightCamera.times.npy</td>\n",
       "    </tr>\n",
       "    <tr>\n",
       "      <th>3</th>\n",
       "      <td>alf/_ibl_bodyCamera.dlc.pqt</td>\n",
       "    </tr>\n",
       "    <tr>\n",
       "      <th>4</th>\n",
       "      <td>alf/_ibl_bodyCamera.times.npy</td>\n",
       "    </tr>\n",
       "    <tr>\n",
       "      <th>5</th>\n",
       "      <td>alf/_ibl_leftCamera.dlc.pqt</td>\n",
       "    </tr>\n",
       "    <tr>\n",
       "      <th>6</th>\n",
       "      <td>alf/_ibl_leftCamera.features.pqt</td>\n",
       "    </tr>\n",
       "    <tr>\n",
       "      <th>7</th>\n",
       "      <td>alf/_ibl_leftCamera.lightningPose.pqt</td>\n",
       "    </tr>\n",
       "    <tr>\n",
       "      <th>8</th>\n",
       "      <td>alf/_ibl_leftCamera.times.npy</td>\n",
       "    </tr>\n",
       "    <tr>\n",
       "      <th>13</th>\n",
       "      <td>alf/_ibl_rightCamera.dlc.pqt</td>\n",
       "    </tr>\n",
       "    <tr>\n",
       "      <th>14</th>\n",
       "      <td>alf/_ibl_rightCamera.features.pqt</td>\n",
       "    </tr>\n",
       "    <tr>\n",
       "      <th>15</th>\n",
       "      <td>alf/_ibl_rightCamera.times.npy</td>\n",
       "    </tr>\n",
       "    <tr>\n",
       "      <th>25</th>\n",
       "      <td>alf/bodyCamera.ROIMotionEnergy.npy</td>\n",
       "    </tr>\n",
       "    <tr>\n",
       "      <th>27</th>\n",
       "      <td>alf/leftCamera.ROIMotionEnergy.npy</td>\n",
       "    </tr>\n",
       "    <tr>\n",
       "      <th>266</th>\n",
       "      <td>alf/rightCamera.ROIMotionEnergy.npy</td>\n",
       "    </tr>\n",
       "    <tr>\n",
       "      <th>337</th>\n",
       "      <td>raw_video_data/_iblrig_bodyCamera.raw.mp4</td>\n",
       "    </tr>\n",
       "    <tr>\n",
       "      <th>338</th>\n",
       "      <td>raw_video_data/_iblrig_bodyCamera.timestamps.ssv</td>\n",
       "    </tr>\n",
       "    <tr>\n",
       "      <th>339</th>\n",
       "      <td>raw_video_data/_iblrig_leftCamera.raw.mp4</td>\n",
       "    </tr>\n",
       "    <tr>\n",
       "      <th>340</th>\n",
       "      <td>raw_video_data/_iblrig_leftCamera.timestamps.ssv</td>\n",
       "    </tr>\n",
       "    <tr>\n",
       "      <th>341</th>\n",
       "      <td>raw_video_data/_iblrig_rightCamera.raw.mp4</td>\n",
       "    </tr>\n",
       "    <tr>\n",
       "      <th>342</th>\n",
       "      <td>raw_video_data/_iblrig_rightCamera.timestamps.ssv</td>\n",
       "    </tr>\n",
       "  </tbody>\n",
       "</table>\n",
       "</div>"
      ]
     },
     "metadata": {},
     "output_type": "display_data"
    }
   ],
   "execution_count": 4
  }
 ],
 "metadata": {
  "kernelspec": {
   "display_name": "Python 3",
   "language": "python",
   "name": "python3"
  },
  "language_info": {
   "codemirror_mode": {
    "name": "ipython",
    "version": 3
   },
   "file_extension": ".py",
   "mimetype": "text/x-python",
   "name": "python",
   "nbconvert_exporter": "python",
   "pygments_lexer": "ipython3",
   "version": "3.8.0"
  }
 },
 "nbformat": 4,
 "nbformat_minor": 4
}
